{
 "cells": [
  {
   "cell_type": "markdown",
   "metadata": {},
   "source": [
    "## Polynomial Yield Curve Fitting"
   ]
  },
  {
   "cell_type": "code",
   "execution_count": 4,
   "metadata": {},
   "outputs": [],
   "source": [
    "import pandas as pd\n",
    "import numpy as np\n",
    "import plotly.express as px\n",
    "from numpy.polynomial.polynomial import Polynomial\n",
    "import os\n",
    "from dotenv import load_dotenv\n",
    "from fredapi import Fred\n",
    "load_dotenv()\n",
    "\n",
    "fred = Fred(api_key=os.getenv(\"FRED_API_KEY\"))"
   ]
  },
  {
   "cell_type": "code",
   "execution_count": 9,
   "metadata": {},
   "outputs": [
    {
     "data": {
      "application/vnd.plotly.v1+json": {
       "config": {
        "plotlyServerURL": "https://plot.ly"
       },
       "data": [
        {
         "hovertemplate": "Date=Current<br>Maturity_Years=%{x}<br>Yield=%{y}<extra></extra>",
         "legendgroup": "Current",
         "line": {
          "color": "#636efa",
          "dash": "solid"
         },
         "marker": {
          "symbol": "circle"
         },
         "mode": "lines+markers",
         "name": "Current",
         "orientation": "v",
         "showlegend": true,
         "type": "scatter",
         "x": {
          "bdata": "VVVVVVVVtT8AAAAAAADQPwAAAAAAAOA/AAAAAAAA8D8AAAAAAAAAQAAAAAAAABRAAAAAAAAAHEAAAAAAAAAkQAAAAAAAADRAAAAAAAAAPkA=",
          "dtype": "f8"
         },
         "xaxis": "x",
         "y": {
          "bdata": "j8L1KFyPEUCkcD0K16MRQClcj8L1KBFAcT0K16NwEEAUrkfhehQQQHsUrkfhehBAMzMzMzMzEUD2KFyPwvURQOF6FK5H4RNAw/UoXI/CE0A=",
          "dtype": "f8"
         },
         "yaxis": "y"
        },
        {
         "hovertemplate": "Date=1 W<br>Maturity_Years=%{x}<br>Yield=%{y}<extra></extra>",
         "legendgroup": "1 W",
         "line": {
          "color": "#EF553B",
          "dash": "solid"
         },
         "marker": {
          "symbol": "circle"
         },
         "mode": "lines+markers",
         "name": "1 W",
         "orientation": "v",
         "showlegend": true,
         "type": "scatter",
         "x": {
          "bdata": "VVVVVVVVtT8AAAAAAADQPwAAAAAAAOA/AAAAAAAA8D8AAAAAAAAAQAAAAAAAABRAAAAAAAAAHEAAAAAAAAAkQAAAAAAAADRAAAAAAAAAPkA=",
          "dtype": "f8"
         },
         "xaxis": "x",
         "y": {
          "bdata": "exSuR+F6EUBSuB6F61ERQAAAAAAAABFA16NwPQrXD0A9CtejcD0OQDMzMzMzMw9AZmZmZmZmEEAzMzMzMzMRQEjhehSuRxNAPQrXo3A9E0A=",
          "dtype": "f8"
         },
         "yaxis": "y"
        },
        {
         "hovertemplate": "Date=1 M<br>Maturity_Years=%{x}<br>Yield=%{y}<extra></extra>",
         "legendgroup": "1 M",
         "line": {
          "color": "#00cc96",
          "dash": "solid"
         },
         "marker": {
          "symbol": "circle"
         },
         "mode": "lines+markers",
         "name": "1 M",
         "orientation": "v",
         "showlegend": true,
         "type": "scatter",
         "x": {
          "bdata": "VVVVVVVVtT8AAAAAAADQPwAAAAAAAOA/AAAAAAAA8D8AAAAAAAAAQAAAAAAAABRAAAAAAAAAHEAAAAAAAAAkQAAAAAAAADRAAAAAAAAAPkA=",
          "dtype": "f8"
         },
         "xaxis": "x",
         "y": {
          "bdata": "XI/C9ShcEUBSuB6F61ERQNejcD0K1xBA7FG4HoXrD0C4HoXrUbgOQBSuR+F6FBBAzczMzMzMEECF61G4HoURQFyPwvUoXBNAMzMzMzMzE0A=",
          "dtype": "f8"
         },
         "yaxis": "y"
        },
        {
         "line": {
          "color": "cyan",
          "dash": "dash"
         },
         "mode": "lines",
         "name": "Fitted Yield Curve",
         "type": "scatter",
         "x": {
          "bdata": "VVVVVVVVtT86XI38Y6zYP5Cx4lG5AeY/A7V+pUCt7z86XI38Y6z0P/NdW6Yngvk/rV8pUOtX/j+zsPt815YBQJCx4lG5AQRAbbLJJptsBkBJs7D7fNcIQCa0l9BeQgtAA7V+pUCtDUDv2jI9EQwQQF1bpieCQRFAzNsZEvN2EkA6XI38Y6wTQKjcAOfU4RRAF1100UUXFkCF3ee7tkwXQPNdW6YnghhAYt7OkJi3GUDQXkJ7Ce0aQD7ftWV6IhxArV8pUOtXHUAb4Jw6XI0eQIlgECXNwh9AfPDBBx98IECzsPt81xYhQOtwNfKPsSFAIjFvZ0hMIkBZ8ajcAOciQJCx4lG5gSNAx3Ecx3EcJED+MVY8KrckQDXyj7HiUSVAbbLJJpvsJUCkcgOcU4cmQNsyPREMIidAEvN2hsS8J0BJs7D7fFcoQIBz6nA18ihAuDMk5u2MKUDv811bpicqQCa0l9BewipAXXTRRRddK0CUNAu7z/crQMv0RDCIkixAA7V+pUAtLUA6dbga+cctQHE18o+xYi5AqPUrBWr9LkDftWV6IpgvQAu7z3dtGTBAJptssslmMEBCewntJbQwQF1bpieCATFAeTtDYt5OMUCVG+CcOpwxQLD7fNeW6TFAzNsZEvM2MkDnu7ZMT4QyQAOcU4er0TJAHnzwwQcfM0A6XI38Y2wzQFY8KjfAuTNAcRzHcRwHNECN/GOseFQ0QKjcAOfUoTRAxLydITHvNEDfnDpcjTw1QPt815bpiTVAF1100UXXNUAyPREMoiQ2QE4drkb+cTZAaf1KgVq/NkCF3ee7tgw3QKG9hPYSWjdAvJ0hMW+nN0DYfb5ry/Q3QPNdW6YnQjhADz744IOPOEAqHpUb4Nw4QEb+MVY8KjlAYt7OkJh3OUB9vmvL9MQ5QJmeCAZREjpAtH6lQK1fOkDQXkJ7Ca06QOs+37Vl+jpABx988MFHO0Aj/xgrHpU7QD7ftWV64jtAWr9SoNYvPEB1n+/aMn08QJF/jBWPyjxArV8pUOsXPUDIP8aKR2U9QOQfY8Wjsj1AAAAAAAAAPkA=",
          "dtype": "f8"
         },
         "y": {
          "bdata": "/1wMuB8pEUBPqTGB9BYRQJM9H/l7BhFAS0eZrqz3EED282MwfeoQQBJxQw3k3hBAIOz709fUEECeklETT8wQQAySCFpAxRBA6RflNqK/EECzUas4a7sQQOxsH+6RuBBAEJcF5gy3EECh/SGv0rYQQBzOONjZtxBAAjYO8Bi6EEDRYmaFhr0QQAmCBScZwhBAKMGvY8fHEECvTSnKh84QQBxVNulQ1hBA7gSbTxnfEECmihuM1+gQQMETfC2C8xBAwM2Awg//EEAh5u3ZdgsRQGOKhwKuGBFAB+gRy6smEUCKLFHCZjURQG2FCXfVRBFALyD/d+5UEUBOKvZTqGURQErRspn5dhFAokL519iIEUDWq42dPJsRQGQ6NHkbrhFAzRux+WvBEUCOfcitJNURQCiNPiQ86RFAGXjX66j9EUDha1eTYRISQP+VgqlcJxJA8iMdvZA8EkA6Q+tc9FESQFUhsRd+ZxJAw+syfCR9EkAD0DQZ3pISQJT7en2hqBJA9pvJN2W+EkCo3uTWH9QSQCnxkOnH6RJA+ACS/lP/EkCUO6ykuhQTQH3Oo2ryKRNAMuc83/E+E0AyszuRr1MTQPxfZA8iaBNADxt76D98E0DsEUSr/48TQBByg+ZXoxNA/Gj9KD+2E0AuJHYBrMgTQCbRsf6U2hNAYp10r/DrE0BjtoKitfwTQKZJoGbaDBRArYSRilUcFED1lBqdHSsUQP6n/ywpORRASOsEyW5GFEBQjO7/5FIUQJi4gGCCXhRAnJ1/eT1pFEDfaK/ZDHMUQN1H1A/nexRAGGiyqsKDFEAM9w05looUQDsiq0lYkBRAIxdOa/+UFEBDA7ssgpgUQBsUthzXmhRAKncDyvSbFEDuWWfD0ZsUQOnppZdkmhRAmFSD1aOXFEB6x8MLhpMUQA9wK8kBjhRA1nt+nA2HFEBQGIEUoH4UQPpy97+vdBRAU7mlLTNpFEDbGFDsIFwUQBG/uopvTRRAdtmplxU9FECHleGhCSsUQMQgJjhCFxRArKg76bUBFEC+WuZDW+oTQHpk6tYo0RNAX/MLMRW2E0A=",
          "dtype": "f8"
         }
        }
       ],
       "layout": {
        "legend": {
         "title": {
          "text": "Date"
         },
         "tracegroupgap": 0
        },
        "template": {
         "data": {
          "bar": [
           {
            "error_x": {
             "color": "#f2f5fa"
            },
            "error_y": {
             "color": "#f2f5fa"
            },
            "marker": {
             "line": {
              "color": "rgb(17,17,17)",
              "width": 0.5
             },
             "pattern": {
              "fillmode": "overlay",
              "size": 10,
              "solidity": 0.2
             }
            },
            "type": "bar"
           }
          ],
          "barpolar": [
           {
            "marker": {
             "line": {
              "color": "rgb(17,17,17)",
              "width": 0.5
             },
             "pattern": {
              "fillmode": "overlay",
              "size": 10,
              "solidity": 0.2
             }
            },
            "type": "barpolar"
           }
          ],
          "carpet": [
           {
            "aaxis": {
             "endlinecolor": "#A2B1C6",
             "gridcolor": "#506784",
             "linecolor": "#506784",
             "minorgridcolor": "#506784",
             "startlinecolor": "#A2B1C6"
            },
            "baxis": {
             "endlinecolor": "#A2B1C6",
             "gridcolor": "#506784",
             "linecolor": "#506784",
             "minorgridcolor": "#506784",
             "startlinecolor": "#A2B1C6"
            },
            "type": "carpet"
           }
          ],
          "choropleth": [
           {
            "colorbar": {
             "outlinewidth": 0,
             "ticks": ""
            },
            "type": "choropleth"
           }
          ],
          "contour": [
           {
            "colorbar": {
             "outlinewidth": 0,
             "ticks": ""
            },
            "colorscale": [
             [
              0,
              "#0d0887"
             ],
             [
              0.1111111111111111,
              "#46039f"
             ],
             [
              0.2222222222222222,
              "#7201a8"
             ],
             [
              0.3333333333333333,
              "#9c179e"
             ],
             [
              0.4444444444444444,
              "#bd3786"
             ],
             [
              0.5555555555555556,
              "#d8576b"
             ],
             [
              0.6666666666666666,
              "#ed7953"
             ],
             [
              0.7777777777777778,
              "#fb9f3a"
             ],
             [
              0.8888888888888888,
              "#fdca26"
             ],
             [
              1,
              "#f0f921"
             ]
            ],
            "type": "contour"
           }
          ],
          "contourcarpet": [
           {
            "colorbar": {
             "outlinewidth": 0,
             "ticks": ""
            },
            "type": "contourcarpet"
           }
          ],
          "heatmap": [
           {
            "colorbar": {
             "outlinewidth": 0,
             "ticks": ""
            },
            "colorscale": [
             [
              0,
              "#0d0887"
             ],
             [
              0.1111111111111111,
              "#46039f"
             ],
             [
              0.2222222222222222,
              "#7201a8"
             ],
             [
              0.3333333333333333,
              "#9c179e"
             ],
             [
              0.4444444444444444,
              "#bd3786"
             ],
             [
              0.5555555555555556,
              "#d8576b"
             ],
             [
              0.6666666666666666,
              "#ed7953"
             ],
             [
              0.7777777777777778,
              "#fb9f3a"
             ],
             [
              0.8888888888888888,
              "#fdca26"
             ],
             [
              1,
              "#f0f921"
             ]
            ],
            "type": "heatmap"
           }
          ],
          "histogram": [
           {
            "marker": {
             "pattern": {
              "fillmode": "overlay",
              "size": 10,
              "solidity": 0.2
             }
            },
            "type": "histogram"
           }
          ],
          "histogram2d": [
           {
            "colorbar": {
             "outlinewidth": 0,
             "ticks": ""
            },
            "colorscale": [
             [
              0,
              "#0d0887"
             ],
             [
              0.1111111111111111,
              "#46039f"
             ],
             [
              0.2222222222222222,
              "#7201a8"
             ],
             [
              0.3333333333333333,
              "#9c179e"
             ],
             [
              0.4444444444444444,
              "#bd3786"
             ],
             [
              0.5555555555555556,
              "#d8576b"
             ],
             [
              0.6666666666666666,
              "#ed7953"
             ],
             [
              0.7777777777777778,
              "#fb9f3a"
             ],
             [
              0.8888888888888888,
              "#fdca26"
             ],
             [
              1,
              "#f0f921"
             ]
            ],
            "type": "histogram2d"
           }
          ],
          "histogram2dcontour": [
           {
            "colorbar": {
             "outlinewidth": 0,
             "ticks": ""
            },
            "colorscale": [
             [
              0,
              "#0d0887"
             ],
             [
              0.1111111111111111,
              "#46039f"
             ],
             [
              0.2222222222222222,
              "#7201a8"
             ],
             [
              0.3333333333333333,
              "#9c179e"
             ],
             [
              0.4444444444444444,
              "#bd3786"
             ],
             [
              0.5555555555555556,
              "#d8576b"
             ],
             [
              0.6666666666666666,
              "#ed7953"
             ],
             [
              0.7777777777777778,
              "#fb9f3a"
             ],
             [
              0.8888888888888888,
              "#fdca26"
             ],
             [
              1,
              "#f0f921"
             ]
            ],
            "type": "histogram2dcontour"
           }
          ],
          "mesh3d": [
           {
            "colorbar": {
             "outlinewidth": 0,
             "ticks": ""
            },
            "type": "mesh3d"
           }
          ],
          "parcoords": [
           {
            "line": {
             "colorbar": {
              "outlinewidth": 0,
              "ticks": ""
             }
            },
            "type": "parcoords"
           }
          ],
          "pie": [
           {
            "automargin": true,
            "type": "pie"
           }
          ],
          "scatter": [
           {
            "marker": {
             "line": {
              "color": "#283442"
             }
            },
            "type": "scatter"
           }
          ],
          "scatter3d": [
           {
            "line": {
             "colorbar": {
              "outlinewidth": 0,
              "ticks": ""
             }
            },
            "marker": {
             "colorbar": {
              "outlinewidth": 0,
              "ticks": ""
             }
            },
            "type": "scatter3d"
           }
          ],
          "scattercarpet": [
           {
            "marker": {
             "colorbar": {
              "outlinewidth": 0,
              "ticks": ""
             }
            },
            "type": "scattercarpet"
           }
          ],
          "scattergeo": [
           {
            "marker": {
             "colorbar": {
              "outlinewidth": 0,
              "ticks": ""
             }
            },
            "type": "scattergeo"
           }
          ],
          "scattergl": [
           {
            "marker": {
             "line": {
              "color": "#283442"
             }
            },
            "type": "scattergl"
           }
          ],
          "scattermap": [
           {
            "marker": {
             "colorbar": {
              "outlinewidth": 0,
              "ticks": ""
             }
            },
            "type": "scattermap"
           }
          ],
          "scattermapbox": [
           {
            "marker": {
             "colorbar": {
              "outlinewidth": 0,
              "ticks": ""
             }
            },
            "type": "scattermapbox"
           }
          ],
          "scatterpolar": [
           {
            "marker": {
             "colorbar": {
              "outlinewidth": 0,
              "ticks": ""
             }
            },
            "type": "scatterpolar"
           }
          ],
          "scatterpolargl": [
           {
            "marker": {
             "colorbar": {
              "outlinewidth": 0,
              "ticks": ""
             }
            },
            "type": "scatterpolargl"
           }
          ],
          "scatterternary": [
           {
            "marker": {
             "colorbar": {
              "outlinewidth": 0,
              "ticks": ""
             }
            },
            "type": "scatterternary"
           }
          ],
          "surface": [
           {
            "colorbar": {
             "outlinewidth": 0,
             "ticks": ""
            },
            "colorscale": [
             [
              0,
              "#0d0887"
             ],
             [
              0.1111111111111111,
              "#46039f"
             ],
             [
              0.2222222222222222,
              "#7201a8"
             ],
             [
              0.3333333333333333,
              "#9c179e"
             ],
             [
              0.4444444444444444,
              "#bd3786"
             ],
             [
              0.5555555555555556,
              "#d8576b"
             ],
             [
              0.6666666666666666,
              "#ed7953"
             ],
             [
              0.7777777777777778,
              "#fb9f3a"
             ],
             [
              0.8888888888888888,
              "#fdca26"
             ],
             [
              1,
              "#f0f921"
             ]
            ],
            "type": "surface"
           }
          ],
          "table": [
           {
            "cells": {
             "fill": {
              "color": "#506784"
             },
             "line": {
              "color": "rgb(17,17,17)"
             }
            },
            "header": {
             "fill": {
              "color": "#2a3f5f"
             },
             "line": {
              "color": "rgb(17,17,17)"
             }
            },
            "type": "table"
           }
          ]
         },
         "layout": {
          "annotationdefaults": {
           "arrowcolor": "#f2f5fa",
           "arrowhead": 0,
           "arrowwidth": 1
          },
          "autotypenumbers": "strict",
          "coloraxis": {
           "colorbar": {
            "outlinewidth": 0,
            "ticks": ""
           }
          },
          "colorscale": {
           "diverging": [
            [
             0,
             "#8e0152"
            ],
            [
             0.1,
             "#c51b7d"
            ],
            [
             0.2,
             "#de77ae"
            ],
            [
             0.3,
             "#f1b6da"
            ],
            [
             0.4,
             "#fde0ef"
            ],
            [
             0.5,
             "#f7f7f7"
            ],
            [
             0.6,
             "#e6f5d0"
            ],
            [
             0.7,
             "#b8e186"
            ],
            [
             0.8,
             "#7fbc41"
            ],
            [
             0.9,
             "#4d9221"
            ],
            [
             1,
             "#276419"
            ]
           ],
           "sequential": [
            [
             0,
             "#0d0887"
            ],
            [
             0.1111111111111111,
             "#46039f"
            ],
            [
             0.2222222222222222,
             "#7201a8"
            ],
            [
             0.3333333333333333,
             "#9c179e"
            ],
            [
             0.4444444444444444,
             "#bd3786"
            ],
            [
             0.5555555555555556,
             "#d8576b"
            ],
            [
             0.6666666666666666,
             "#ed7953"
            ],
            [
             0.7777777777777778,
             "#fb9f3a"
            ],
            [
             0.8888888888888888,
             "#fdca26"
            ],
            [
             1,
             "#f0f921"
            ]
           ],
           "sequentialminus": [
            [
             0,
             "#0d0887"
            ],
            [
             0.1111111111111111,
             "#46039f"
            ],
            [
             0.2222222222222222,
             "#7201a8"
            ],
            [
             0.3333333333333333,
             "#9c179e"
            ],
            [
             0.4444444444444444,
             "#bd3786"
            ],
            [
             0.5555555555555556,
             "#d8576b"
            ],
            [
             0.6666666666666666,
             "#ed7953"
            ],
            [
             0.7777777777777778,
             "#fb9f3a"
            ],
            [
             0.8888888888888888,
             "#fdca26"
            ],
            [
             1,
             "#f0f921"
            ]
           ]
          },
          "colorway": [
           "#636efa",
           "#EF553B",
           "#00cc96",
           "#ab63fa",
           "#FFA15A",
           "#19d3f3",
           "#FF6692",
           "#B6E880",
           "#FF97FF",
           "#FECB52"
          ],
          "font": {
           "color": "#f2f5fa"
          },
          "geo": {
           "bgcolor": "rgb(17,17,17)",
           "lakecolor": "rgb(17,17,17)",
           "landcolor": "rgb(17,17,17)",
           "showlakes": true,
           "showland": true,
           "subunitcolor": "#506784"
          },
          "hoverlabel": {
           "align": "left"
          },
          "hovermode": "closest",
          "mapbox": {
           "style": "dark"
          },
          "paper_bgcolor": "rgb(17,17,17)",
          "plot_bgcolor": "rgb(17,17,17)",
          "polar": {
           "angularaxis": {
            "gridcolor": "#506784",
            "linecolor": "#506784",
            "ticks": ""
           },
           "bgcolor": "rgb(17,17,17)",
           "radialaxis": {
            "gridcolor": "#506784",
            "linecolor": "#506784",
            "ticks": ""
           }
          },
          "scene": {
           "xaxis": {
            "backgroundcolor": "rgb(17,17,17)",
            "gridcolor": "#506784",
            "gridwidth": 2,
            "linecolor": "#506784",
            "showbackground": true,
            "ticks": "",
            "zerolinecolor": "#C8D4E3"
           },
           "yaxis": {
            "backgroundcolor": "rgb(17,17,17)",
            "gridcolor": "#506784",
            "gridwidth": 2,
            "linecolor": "#506784",
            "showbackground": true,
            "ticks": "",
            "zerolinecolor": "#C8D4E3"
           },
           "zaxis": {
            "backgroundcolor": "rgb(17,17,17)",
            "gridcolor": "#506784",
            "gridwidth": 2,
            "linecolor": "#506784",
            "showbackground": true,
            "ticks": "",
            "zerolinecolor": "#C8D4E3"
           }
          },
          "shapedefaults": {
           "line": {
            "color": "#f2f5fa"
           }
          },
          "sliderdefaults": {
           "bgcolor": "#C8D4E3",
           "bordercolor": "rgb(17,17,17)",
           "borderwidth": 1,
           "tickwidth": 0
          },
          "ternary": {
           "aaxis": {
            "gridcolor": "#506784",
            "linecolor": "#506784",
            "ticks": ""
           },
           "baxis": {
            "gridcolor": "#506784",
            "linecolor": "#506784",
            "ticks": ""
           },
           "bgcolor": "rgb(17,17,17)",
           "caxis": {
            "gridcolor": "#506784",
            "linecolor": "#506784",
            "ticks": ""
           }
          },
          "title": {
           "x": 0.05
          },
          "updatemenudefaults": {
           "bgcolor": "#506784",
           "borderwidth": 0
          },
          "xaxis": {
           "automargin": true,
           "gridcolor": "#283442",
           "linecolor": "#506784",
           "ticks": "",
           "title": {
            "standoff": 15
           },
           "zerolinecolor": "#283442",
           "zerolinewidth": 2
          },
          "yaxis": {
           "automargin": true,
           "gridcolor": "#283442",
           "linecolor": "#506784",
           "ticks": "",
           "title": {
            "standoff": 15
           },
           "zerolinecolor": "#283442",
           "zerolinewidth": 2
          }
         }
        },
        "title": {
         "text": "US Yield Curve: Current / 1W Ago / 1M Ago"
        },
        "xaxis": {
         "anchor": "y",
         "domain": [
          0,
          1
         ],
         "title": {
          "text": "Maturity (Years)"
         }
        },
        "yaxis": {
         "anchor": "x",
         "domain": [
          0,
          1
         ],
         "title": {
          "text": "Yield (%)"
         }
        }
       }
      }
     },
     "metadata": {},
     "output_type": "display_data"
    },
    {
     "name": "stdout",
     "output_type": "stream",
     "text": [
      "\n",
      "Top deviations from fitted curve:\n",
      "  Maturity  Actual_Yield  Fitted_Yield  Deviation\n",
      "4     US2Y          4.02      4.204834  -0.184834\n",
      "3     US1Y          4.11      4.241414  -0.131414\n",
      "1     US3M          4.41      4.280167   0.129833\n",
      "7    US10Y          4.49      4.380392   0.109608\n",
      "0     US1M          4.39      4.290160   0.099840\n",
      "5     US5Y          4.12      4.186181  -0.066181\n",
      "6     US7Y          4.30      4.236597   0.063403\n",
      "8    US20Y          4.97      5.026308  -0.056308\n",
      "2     US6M          4.29      4.266131   0.023869\n",
      "9    US30Y          4.94      4.927815   0.012185\n"
     ]
    }
   ],
   "source": [
    "def get_yields(start=None):\n",
    "    df = pd.DataFrame()\n",
    "\n",
    "    yields = {\n",
    "        'DGS1MO': 'US1M',\n",
    "        'DGS3MO': 'US3M',\n",
    "        'DGS6MO': 'US6M',\n",
    "        'DGS1': 'US1Y',\n",
    "        'DGS2': 'US2Y',\n",
    "        'DGS5': 'US5Y',\n",
    "        'DGS7': 'US7Y',\n",
    "        'DGS10': 'US10Y',\n",
    "        'DGS20': 'US20Y',\n",
    "        'DGS30': 'US30Y'\n",
    "    }\n",
    "\n",
    "    for ticker, tenor in yields.items():\n",
    "        series = fred.get_series(ticker)\n",
    "        series_df = pd.DataFrame(series, columns=[tenor])\n",
    "        series_df.reset_index(inplace=True)\n",
    "        series_df.rename(columns={'index': 'Date'}, inplace=True)\n",
    "\n",
    "        if df.empty:\n",
    "            df = series_df\n",
    "        else:\n",
    "            df = pd.merge(df, series_df, on='Date', how='outer')\n",
    "\n",
    "    df.set_index('Date', inplace=True)\n",
    "    df.sort_index(ascending=False, inplace=True)\n",
    "\n",
    "    latest_date = df.index.max()\n",
    "    one_wk = latest_date - pd.Timedelta(weeks=1)\n",
    "    one_mth = latest_date - pd.DateOffset(months=1)\n",
    "\n",
    "    def get_nearest_index(target_date):\n",
    "        return df.index[df.index.get_indexer([target_date], method='nearest')[0]]\n",
    "\n",
    "    current = df.loc[latest_date]\n",
    "    wk_ago = df.loc[get_nearest_index(one_wk)]\n",
    "    mth_ago = df.loc[get_nearest_index(one_mth)]\n",
    "\n",
    "    tenor_to_years = {\n",
    "        \"US1M\": 1/12,\n",
    "        \"US3M\": 0.25,\n",
    "        \"US6M\": 0.5,\n",
    "        \"US1Y\": 1,\n",
    "        \"US2Y\": 2,\n",
    "        \"US5Y\": 5,\n",
    "        \"US7Y\": 7,\n",
    "        \"US10Y\": 10,\n",
    "        \"US20Y\": 20,\n",
    "        \"US30Y\": 30,\n",
    "    }\n",
    "\n",
    "    yield_curve = pd.DataFrame({\n",
    "        'Maturity': df.columns.tolist() * 3,\n",
    "        'Yield': pd.concat([current, wk_ago, mth_ago], axis=0).values,\n",
    "        'Date': ['Current'] * len(df.columns) + ['1 W'] * len(df.columns) + ['1 M'] * len(df.columns)\n",
    "    })\n",
    "\n",
    "    yield_curve['Maturity_Years'] = yield_curve['Maturity'].map(tenor_to_years)\n",
    "\n",
    "    yiled_curve_fig = px.line(yield_curve,\n",
    "                  x='Maturity_Years',\n",
    "                  y='Yield',\n",
    "                  color='Date',\n",
    "                  markers=True,\n",
    "                  template='plotly_dark',\n",
    "                  title=\"US Yield Curve: Current / 1W Ago / 1M Ago\")\n",
    "\n",
    "    yiled_curve_fig.update_layout(xaxis_title='Maturity (Years)', yaxis_title='Yield (%)')\n",
    "    \n",
    "    current_curve = yield_curve[yield_curve['Date'] == 'Current'].dropna()\n",
    "    x = current_curve['Maturity_Years'].values\n",
    "    y = current_curve['Yield'].values\n",
    "\n",
    "    coeffs = Polynomial.fit(x, y, deg=3).convert().coef\n",
    "\n",
    "    x_fit = np.linspace(min(x), max(x), 100)\n",
    "    y_fit = np.polyval(coeffs[::-1], x_fit)\n",
    "\n",
    "    yiled_curve_fig.add_scatter(x=x_fit,\n",
    "                                y=y_fit,\n",
    "                                mode='lines',\n",
    "                                name='Fitted Yield Curve',\n",
    "                                line=dict(dash='dash', color='cyan'))\n",
    "\n",
    "    yiled_curve_fig.update_layout(xaxis_title='Maturity (Years)', yaxis_title='Yield (%)')\n",
    "    yiled_curve_fig.show()\n",
    "\n",
    "    current_curve = yield_curve[yield_curve['Date'] == 'Current'].dropna()\n",
    "    x = current_curve['Maturity_Years'].values\n",
    "    y = current_curve['Yield'].values\n",
    "\n",
    "    coeffs = Polynomial.fit(x, y, deg=3).convert().coef  # coeffs from lowest to highest power\n",
    "    fitted_y = np.polyval(coeffs[::-1], x)  # polyval expects highest-degree first\n",
    "\n",
    "    deviation_df = pd.DataFrame({\n",
    "        'Maturity': current_curve['Maturity'].values,\n",
    "        'Maturity_Years': x,\n",
    "        'Actual_Yield': y,\n",
    "        'Fitted_Yield': fitted_y,\n",
    "        'Deviation': y - fitted_y\n",
    "    }).sort_values(by='Deviation', key=np.abs, ascending=False)\n",
    "\n",
    "    print(\"\\nTop deviations from fitted curve:\")\n",
    "    print(deviation_df[['Maturity', 'Actual_Yield', 'Fitted_Yield', 'Deviation']])\n",
    "\n",
    "    return df, deviation_df\n",
    "\n",
    "historical_yields, current_poly_fit = get_yields()"
   ]
  }
 ],
 "metadata": {
  "kernelspec": {
   "display_name": "Python 3",
   "language": "python",
   "name": "python3"
  },
  "language_info": {
   "codemirror_mode": {
    "name": "ipython",
    "version": 3
   },
   "file_extension": ".py",
   "mimetype": "text/x-python",
   "name": "python",
   "nbconvert_exporter": "python",
   "pygments_lexer": "ipython3",
   "version": "3.11.4"
  }
 },
 "nbformat": 4,
 "nbformat_minor": 2
}
